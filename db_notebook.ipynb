{
 "cells": [
  {
   "cell_type": "code",
   "execution_count": 25,
   "metadata": {},
   "outputs": [],
   "source": [
    "import pandas as pd\n",
    "import sqlite3\n",
    "from pathlib import Path"
   ]
  },
  {
   "cell_type": "code",
   "execution_count": 17,
   "metadata": {},
   "outputs": [
    {
     "data": {
      "text/html": [
       "<div>\n",
       "<style scoped>\n",
       "    .dataframe tbody tr th:only-of-type {\n",
       "        vertical-align: middle;\n",
       "    }\n",
       "\n",
       "    .dataframe tbody tr th {\n",
       "        vertical-align: top;\n",
       "    }\n",
       "\n",
       "    .dataframe thead th {\n",
       "        text-align: right;\n",
       "    }\n",
       "</style>\n",
       "<table border=\"1\" class=\"dataframe\">\n",
       "  <thead>\n",
       "    <tr style=\"text-align: right;\">\n",
       "      <th></th>\n",
       "      <th>project_id</th>\n",
       "      <th>project_name</th>\n",
       "      <th>project_description</th>\n",
       "      <th>project_skills</th>\n",
       "      <th>project_image</th>\n",
       "      <th>project_date</th>\n",
       "      <th>project_link</th>\n",
       "    </tr>\n",
       "  </thead>\n",
       "  <tbody>\n",
       "    <tr>\n",
       "      <th>0</th>\n",
       "      <td>1</td>\n",
       "      <td>Personal Website</td>\n",
       "      <td>Employing technologies such as React, Flask, S...</td>\n",
       "      <td>React, Flask, SCSS, SQLite,  Javascript, Python</td>\n",
       "      <td>website_capture.png</td>\n",
       "      <td>12/12/2023</td>\n",
       "      <td>www.jesse-heaton.com</td>\n",
       "    </tr>\n",
       "    <tr>\n",
       "      <th>1</th>\n",
       "      <td>2</td>\n",
       "      <td>Machine Learning Music</td>\n",
       "      <td>In the 2 week scope of this project, our team ...</td>\n",
       "      <td>Machine Learning, Data Science, Python, APIs</td>\n",
       "      <td>ml_music.png</td>\n",
       "      <td>10/2/2023</td>\n",
       "      <td>https://github.com/jnh17331/machine-learning-m...</td>\n",
       "    </tr>\n",
       "    <tr>\n",
       "      <th>2</th>\n",
       "      <td>3</td>\n",
       "      <td>Earthquake Reporter</td>\n",
       "      <td>The Earthquake Report Visualizer provides a co...</td>\n",
       "      <td>Javascript, Leaflet, APIs</td>\n",
       "      <td>eq_leaflet.png</td>\n",
       "      <td>8/1/2023</td>\n",
       "      <td>https://jnh17331.github.io/leaflet-challenge/</td>\n",
       "    </tr>\n",
       "    <tr>\n",
       "      <th>3</th>\n",
       "      <td>4</td>\n",
       "      <td>Pokedex</td>\n",
       "      <td>The Pokedex Data Visualization Project—a front...</td>\n",
       "      <td>Flask, Python, Javascript, HTML, CSS</td>\n",
       "      <td>pokedex.png</td>\n",
       "      <td>8/10/2023</td>\n",
       "      <td>https://github.com/jnh17331/Group_Project_3_Po...</td>\n",
       "    </tr>\n",
       "    <tr>\n",
       "      <th>4</th>\n",
       "      <td>5</td>\n",
       "      <td>Box Office Analysis</td>\n",
       "      <td>Our team systematically curated data encompass...</td>\n",
       "      <td>Python, APIs, Pandas, Matplotlib</td>\n",
       "      <td>movie_analysis.png</td>\n",
       "      <td>6/5/2023</td>\n",
       "      <td>https://github.com/jnh17331/project1</td>\n",
       "    </tr>\n",
       "    <tr>\n",
       "      <th>5</th>\n",
       "      <td>6</td>\n",
       "      <td>Webscraping Mars Info</td>\n",
       "      <td>The project involves meticulously scraping dat...</td>\n",
       "      <td>Python, APIS, Pandas, Matplotlib</td>\n",
       "      <td>mars_webscraping.png</td>\n",
       "      <td>6/5/2023</td>\n",
       "      <td>https://github.com/jnh17331/mars_web_scraping</td>\n",
       "    </tr>\n",
       "    <tr>\n",
       "      <th>6</th>\n",
       "      <td>7</td>\n",
       "      <td>Funding Venture Neural Network Predictor</td>\n",
       "      <td>Mimicked a business situation in which a compa...</td>\n",
       "      <td>Neural Networks, Python, Machine Learning, Dat...</td>\n",
       "      <td>venture_nn.PNG</td>\n",
       "      <td>9/12/2023</td>\n",
       "      <td>https://github.com/jnh17331/deep-learning-chal...</td>\n",
       "    </tr>\n",
       "    <tr>\n",
       "      <th>7</th>\n",
       "      <td>8</td>\n",
       "      <td>Credit Risk Classifier</td>\n",
       "      <td>Utilized logistic regression in a machine lear...</td>\n",
       "      <td>Statistics, Machine Learning, Python</td>\n",
       "      <td>credit_classifer.PNG</td>\n",
       "      <td>9/4/2023</td>\n",
       "      <td>https://github.com/jnh17331/credit-risk-classi...</td>\n",
       "    </tr>\n",
       "    <tr>\n",
       "      <th>8</th>\n",
       "      <td>9</td>\n",
       "      <td>Cryptocurrency Clustering Model</td>\n",
       "      <td>This project focuses on applying unsupervised ...</td>\n",
       "      <td>Machine Learning, Statistics, Python</td>\n",
       "      <td>crypto_clustering.PNG</td>\n",
       "      <td>8/29/2023</td>\n",
       "      <td>https://github.com/jnh17331/crypto_clustering</td>\n",
       "    </tr>\n",
       "    <tr>\n",
       "      <th>9</th>\n",
       "      <td>10</td>\n",
       "      <td>Belly Button Microbe Dashboard</td>\n",
       "      <td>I built a front-end interactive dashboard to e...</td>\n",
       "      <td>Javascript, Plotly, HTML, Git</td>\n",
       "      <td>belly_button.PNG</td>\n",
       "      <td>7/27/2023</td>\n",
       "      <td>https://jnh17331.github.io/belly_button_challe...</td>\n",
       "    </tr>\n",
       "    <tr>\n",
       "      <th>10</th>\n",
       "      <td>11</td>\n",
       "      <td>Crowdfunding ETL</td>\n",
       "      <td>In a 2-day time frame, my team and I followed ...</td>\n",
       "      <td>SQL, ETL, Data Engineering,</td>\n",
       "      <td>ETL.PNG</td>\n",
       "      <td>7/13/2023</td>\n",
       "      <td>https://github.com/jnh17331/crowdfunding_ETL</td>\n",
       "    </tr>\n",
       "    <tr>\n",
       "      <th>11</th>\n",
       "      <td>12</td>\n",
       "      <td>UK Food Analysis</td>\n",
       "      <td>Created a MongoDB database to store the data o...</td>\n",
       "      <td>noSQL, Data Analysis, Data Engineering, Data M...</td>\n",
       "      <td>no_sql.PNG</td>\n",
       "      <td>7/11/2023</td>\n",
       "      <td>https://github.com/jnh17331/nosql-challenge</td>\n",
       "    </tr>\n",
       "    <tr>\n",
       "      <th>12</th>\n",
       "      <td>13</td>\n",
       "      <td>Hawaii Climate Analysis App</td>\n",
       "      <td>For this project, I developed a Flask app that...</td>\n",
       "      <td>Flask, Python, SQL, Data Analysis</td>\n",
       "      <td>hawaii_app.PNG</td>\n",
       "      <td>6/28/2023</td>\n",
       "      <td>https://github.com/jnh17331/sqlalchemy-challenge</td>\n",
       "    </tr>\n",
       "  </tbody>\n",
       "</table>\n",
       "</div>"
      ],
      "text/plain": [
       "    project_id                              project_name  \\\n",
       "0            1                          Personal Website   \n",
       "1            2                    Machine Learning Music   \n",
       "2            3                       Earthquake Reporter   \n",
       "3            4                                   Pokedex   \n",
       "4            5                       Box Office Analysis   \n",
       "5            6                     Webscraping Mars Info   \n",
       "6            7  Funding Venture Neural Network Predictor   \n",
       "7            8                    Credit Risk Classifier   \n",
       "8            9           Cryptocurrency Clustering Model   \n",
       "9           10            Belly Button Microbe Dashboard   \n",
       "10          11                          Crowdfunding ETL   \n",
       "11          12                          UK Food Analysis   \n",
       "12          13               Hawaii Climate Analysis App   \n",
       "\n",
       "                                  project_description  \\\n",
       "0   Employing technologies such as React, Flask, S...   \n",
       "1   In the 2 week scope of this project, our team ...   \n",
       "2   The Earthquake Report Visualizer provides a co...   \n",
       "3   The Pokedex Data Visualization Project—a front...   \n",
       "4   Our team systematically curated data encompass...   \n",
       "5   The project involves meticulously scraping dat...   \n",
       "6   Mimicked a business situation in which a compa...   \n",
       "7   Utilized logistic regression in a machine lear...   \n",
       "8   This project focuses on applying unsupervised ...   \n",
       "9   I built a front-end interactive dashboard to e...   \n",
       "10  In a 2-day time frame, my team and I followed ...   \n",
       "11  Created a MongoDB database to store the data o...   \n",
       "12  For this project, I developed a Flask app that...   \n",
       "\n",
       "                                       project_skills          project_image  \\\n",
       "0     React, Flask, SCSS, SQLite,  Javascript, Python    website_capture.png   \n",
       "1        Machine Learning, Data Science, Python, APIs           ml_music.png   \n",
       "2                           Javascript, Leaflet, APIs         eq_leaflet.png   \n",
       "3                Flask, Python, Javascript, HTML, CSS            pokedex.png   \n",
       "4                    Python, APIs, Pandas, Matplotlib     movie_analysis.png   \n",
       "5                    Python, APIS, Pandas, Matplotlib   mars_webscraping.png   \n",
       "6   Neural Networks, Python, Machine Learning, Dat...         venture_nn.PNG   \n",
       "7                Statistics, Machine Learning, Python   credit_classifer.PNG   \n",
       "8                Machine Learning, Statistics, Python  crypto_clustering.PNG   \n",
       "9                       Javascript, Plotly, HTML, Git       belly_button.PNG   \n",
       "10                       SQL, ETL, Data Engineering,                 ETL.PNG   \n",
       "11  noSQL, Data Analysis, Data Engineering, Data M...             no_sql.PNG   \n",
       "12                  Flask, Python, SQL, Data Analysis         hawaii_app.PNG   \n",
       "\n",
       "   project_date                                       project_link  \n",
       "0    12/12/2023                               www.jesse-heaton.com  \n",
       "1     10/2/2023  https://github.com/jnh17331/machine-learning-m...  \n",
       "2      8/1/2023      https://jnh17331.github.io/leaflet-challenge/  \n",
       "3     8/10/2023  https://github.com/jnh17331/Group_Project_3_Po...  \n",
       "4      6/5/2023               https://github.com/jnh17331/project1  \n",
       "5      6/5/2023      https://github.com/jnh17331/mars_web_scraping  \n",
       "6     9/12/2023  https://github.com/jnh17331/deep-learning-chal...  \n",
       "7      9/4/2023  https://github.com/jnh17331/credit-risk-classi...  \n",
       "8     8/29/2023      https://github.com/jnh17331/crypto_clustering  \n",
       "9     7/27/2023  https://jnh17331.github.io/belly_button_challe...  \n",
       "10    7/13/2023       https://github.com/jnh17331/crowdfunding_ETL  \n",
       "11    7/11/2023        https://github.com/jnh17331/nosql-challenge  \n",
       "12    6/28/2023   https://github.com/jnh17331/sqlalchemy-challenge  "
      ]
     },
     "execution_count": 17,
     "metadata": {},
     "output_type": "execute_result"
    }
   ],
   "source": [
    "csv_file = Path('projects.csv')\n",
    "\n",
    "df_projects = pd.read_csv(csv_file)\n",
    "\n",
    "df_projects.head(15)"
   ]
  },
  {
   "cell_type": "code",
   "execution_count": 26,
   "metadata": {},
   "outputs": [],
   "source": [
    "db_path = 'sqlite_db/project_db.sqlite'\n",
    "\n",
    "conn = sqlite3.connect(db_path)"
   ]
  },
  {
   "cell_type": "code",
   "execution_count": 27,
   "metadata": {},
   "outputs": [],
   "source": [
    "cursor = conn.cursor()"
   ]
  },
  {
   "cell_type": "code",
   "execution_count": 20,
   "metadata": {},
   "outputs": [
    {
     "data": {
      "text/plain": [
       "<sqlite3.Cursor at 0x26ac3261440>"
      ]
     },
     "execution_count": 20,
     "metadata": {},
     "output_type": "execute_result"
    }
   ],
   "source": [
    "drop_table_query = \"DROP TABLE project_db\"\n",
    "\n",
    "cursor.execute(drop_table_query)\n",
    "\n",
    "create_table_query = \"\"\"\n",
    "CREATE TABLE \"project_db\" (\n",
    "\t\"project_id\"\tINTEGER NOT NULL,\n",
    "\t\"project_name\"\tTEXT NOT NULL,\n",
    "\t\"project_description\"\tTEXT NOT NULL,\n",
    "\t\"project_skills\"\tTEXT NOT NULL,\n",
    "\t\"project_image\"\tBLOB,\n",
    "\t\"project_date\"\tTEXT,\n",
    "    \"project_link\"\tTEXT,\n",
    "\tPRIMARY KEY(\"project_id\")\n",
    ");\n",
    "\"\"\"\n",
    "\n",
    "cursor.execute(create_table_query)"
   ]
  },
  {
   "cell_type": "code",
   "execution_count": 21,
   "metadata": {},
   "outputs": [
    {
     "data": {
      "text/plain": [
       "13"
      ]
     },
     "execution_count": 21,
     "metadata": {},
     "output_type": "execute_result"
    }
   ],
   "source": [
    "df_projects.to_sql('project_db', conn, if_exists='replace', index=False)"
   ]
  },
  {
   "cell_type": "code",
   "execution_count": 28,
   "metadata": {},
   "outputs": [
    {
     "data": {
      "text/html": [
       "<div>\n",
       "<style scoped>\n",
       "    .dataframe tbody tr th:only-of-type {\n",
       "        vertical-align: middle;\n",
       "    }\n",
       "\n",
       "    .dataframe tbody tr th {\n",
       "        vertical-align: top;\n",
       "    }\n",
       "\n",
       "    .dataframe thead th {\n",
       "        text-align: right;\n",
       "    }\n",
       "</style>\n",
       "<table border=\"1\" class=\"dataframe\">\n",
       "  <thead>\n",
       "    <tr style=\"text-align: right;\">\n",
       "      <th></th>\n",
       "      <th>blog_id</th>\n",
       "      <th>blog_title</th>\n",
       "      <th>blog_message</th>\n",
       "      <th>date</th>\n",
       "    </tr>\n",
       "  </thead>\n",
       "  <tbody>\n",
       "    <tr>\n",
       "      <th>0</th>\n",
       "      <td>0</td>\n",
       "      <td>My first blog post!</td>\n",
       "      <td>Welcome to my first blog post! I have just cre...</td>\n",
       "      <td>12/7/2023</td>\n",
       "    </tr>\n",
       "    <tr>\n",
       "      <th>1</th>\n",
       "      <td>1</td>\n",
       "      <td>Welcome to my website!</td>\n",
       "      <td>Hello and Happy Holidays! It's currently 3 day...</td>\n",
       "      <td>12/22/2023</td>\n",
       "    </tr>\n",
       "  </tbody>\n",
       "</table>\n",
       "</div>"
      ],
      "text/plain": [
       "   blog_id              blog_title  \\\n",
       "0        0     My first blog post!   \n",
       "1        1  Welcome to my website!   \n",
       "\n",
       "                                        blog_message        date  \n",
       "0  Welcome to my first blog post! I have just cre...   12/7/2023  \n",
       "1  Hello and Happy Holidays! It's currently 3 day...  12/22/2023  "
      ]
     },
     "execution_count": 28,
     "metadata": {},
     "output_type": "execute_result"
    }
   ],
   "source": [
    "blog_csv_file = Path('blog.csv')\n",
    "\n",
    "df_blog = pd.read_csv(blog_csv_file)\n",
    "\n",
    "df_blog.head(15)"
   ]
  },
  {
   "cell_type": "code",
   "execution_count": 29,
   "metadata": {},
   "outputs": [
    {
     "data": {
      "text/plain": [
       "<sqlite3.Cursor at 0x26ac37517c0>"
      ]
     },
     "execution_count": 29,
     "metadata": {},
     "output_type": "execute_result"
    }
   ],
   "source": [
    "drop_table_query = \"DROP TABLE blog_db\"\n",
    "\n",
    "cursor.execute(drop_table_query)\n",
    "\n",
    "create_blog_table_query = \"\"\"\n",
    "CREATE TABLE \"blog_db\" (\n",
    "\t\"blog_id\"\tINTEGER NOT NULL,\n",
    "\t\"blog_title\"\tTEXT NOT NULL,\n",
    "\t\"blog_message\"\tTEXT NOT NULL,\n",
    "    \"date\"\tTEXT NOT NULL,\n",
    "\tPRIMARY KEY(\"blog_id\")\n",
    ");\n",
    "\"\"\"\n",
    "\n",
    "cursor.execute(create_blog_table_query)"
   ]
  },
  {
   "cell_type": "code",
   "execution_count": 30,
   "metadata": {},
   "outputs": [
    {
     "data": {
      "text/plain": [
       "2"
      ]
     },
     "execution_count": 30,
     "metadata": {},
     "output_type": "execute_result"
    }
   ],
   "source": [
    "df_blog.to_sql('blog_db', conn, if_exists='replace', index=False)"
   ]
  },
  {
   "cell_type": "code",
   "execution_count": 11,
   "metadata": {},
   "outputs": [],
   "source": [
    "conn.commit()\n",
    "conn.close()"
   ]
  },
  {
   "cell_type": "code",
   "execution_count": 31,
   "metadata": {},
   "outputs": [],
   "source": [
    "query = \"SELECT * FROM project_db;\"\n",
    "params = \"\"\n",
    "\n",
    "cursor.execute(query, params)\n",
    "projects  = cursor.fetchall()\n",
    "\n",
    "#conn.close()"
   ]
  },
  {
   "cell_type": "code",
   "execution_count": 13,
   "metadata": {},
   "outputs": [
    {
     "ename": "ProgrammingError",
     "evalue": "Cannot operate on a closed database.",
     "output_type": "error",
     "traceback": [
      "\u001b[1;31m---------------------------------------------------------------------------\u001b[0m",
      "\u001b[1;31mProgrammingError\u001b[0m                          Traceback (most recent call last)",
      "Cell \u001b[1;32mIn[13], line 4\u001b[0m\n\u001b[0;32m      1\u001b[0m query \u001b[38;5;241m=\u001b[39m \u001b[38;5;124m\"\u001b[39m\u001b[38;5;124mSELECT * FROM blog_db;\u001b[39m\u001b[38;5;124m\"\u001b[39m\n\u001b[0;32m      2\u001b[0m params \u001b[38;5;241m=\u001b[39m \u001b[38;5;124m\"\u001b[39m\u001b[38;5;124m\"\u001b[39m\n\u001b[1;32m----> 4\u001b[0m \u001b[43mcursor\u001b[49m\u001b[38;5;241;43m.\u001b[39;49m\u001b[43mexecute\u001b[49m\u001b[43m(\u001b[49m\u001b[43mquery\u001b[49m\u001b[43m,\u001b[49m\u001b[43m \u001b[49m\u001b[43mparams\u001b[49m\u001b[43m)\u001b[49m\n\u001b[0;32m      5\u001b[0m blogs  \u001b[38;5;241m=\u001b[39m cursor\u001b[38;5;241m.\u001b[39mfetchall()\n\u001b[0;32m      7\u001b[0m \u001b[38;5;66;03m#conn.close()\u001b[39;00m\n",
      "\u001b[1;31mProgrammingError\u001b[0m: Cannot operate on a closed database."
     ]
    }
   ],
   "source": [
    "query = \"SELECT * FROM blog_db;\"\n",
    "params = \"\"\n",
    "\n",
    "cursor.execute(query, params)\n",
    "blogs  = cursor.fetchall()\n",
    "\n",
    "#conn.close()\n",
    "print(blogs)"
   ]
  },
  {
   "cell_type": "code",
   "execution_count": 14,
   "metadata": {},
   "outputs": [
    {
     "ename": "NameError",
     "evalue": "name 'projects' is not defined",
     "output_type": "error",
     "traceback": [
      "\u001b[1;31m---------------------------------------------------------------------------\u001b[0m",
      "\u001b[1;31mNameError\u001b[0m                                 Traceback (most recent call last)",
      "Cell \u001b[1;32mIn[14], line 1\u001b[0m\n\u001b[1;32m----> 1\u001b[0m \u001b[38;5;28mprint\u001b[39m(\u001b[43mprojects\u001b[49m)\n",
      "\u001b[1;31mNameError\u001b[0m: name 'projects' is not defined"
     ]
    }
   ],
   "source": [
    "print(projects)"
   ]
  },
  {
   "cell_type": "code",
   "execution_count": null,
   "metadata": {},
   "outputs": [],
   "source": [
    "db_path = 'project_db.sqlite'\n",
    "\n",
    "conn = sqlite3.connect(db_path)"
   ]
  },
  {
   "cell_type": "code",
   "execution_count": 22,
   "metadata": {},
   "outputs": [],
   "source": [
    "conn.close()"
   ]
  }
 ],
 "metadata": {
  "kernelspec": {
   "display_name": "base",
   "language": "python",
   "name": "python3"
  },
  "language_info": {
   "codemirror_mode": {
    "name": "ipython",
    "version": 3
   },
   "file_extension": ".py",
   "mimetype": "text/x-python",
   "name": "python",
   "nbconvert_exporter": "python",
   "pygments_lexer": "ipython3",
   "version": "3.10.13"
  }
 },
 "nbformat": 4,
 "nbformat_minor": 2
}
