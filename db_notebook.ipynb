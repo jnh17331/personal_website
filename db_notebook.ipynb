{
 "cells": [
  {
   "cell_type": "code",
   "execution_count": 38,
   "metadata": {},
   "outputs": [],
   "source": [
    "import pandas as pd\n",
    "import sqlite3\n",
    "from pathlib import Path\n",
    "from PIL import Image"
   ]
  },
  {
   "cell_type": "code",
   "execution_count": 39,
   "metadata": {},
   "outputs": [
    {
     "data": {
      "text/html": [
       "<div>\n",
       "<style scoped>\n",
       "    .dataframe tbody tr th:only-of-type {\n",
       "        vertical-align: middle;\n",
       "    }\n",
       "\n",
       "    .dataframe tbody tr th {\n",
       "        vertical-align: top;\n",
       "    }\n",
       "\n",
       "    .dataframe thead th {\n",
       "        text-align: right;\n",
       "    }\n",
       "</style>\n",
       "<table border=\"1\" class=\"dataframe\">\n",
       "  <thead>\n",
       "    <tr style=\"text-align: right;\">\n",
       "      <th></th>\n",
       "      <th>project_id</th>\n",
       "      <th>project_name</th>\n",
       "      <th>project_description</th>\n",
       "      <th>project_skills</th>\n",
       "      <th>project_image</th>\n",
       "      <th>project_date</th>\n",
       "      <th>reviews</th>\n",
       "    </tr>\n",
       "  </thead>\n",
       "  <tbody>\n",
       "    <tr>\n",
       "      <th>0</th>\n",
       "      <td>1</td>\n",
       "      <td>Personal Website</td>\n",
       "      <td>Employing technologies such as React, Django, ...</td>\n",
       "      <td>React, Django, SCSS, SQL,  Javascript, Python</td>\n",
       "      <td>NaN</td>\n",
       "      <td>NaN</td>\n",
       "      <td>NaN</td>\n",
       "    </tr>\n",
       "    <tr>\n",
       "      <th>1</th>\n",
       "      <td>2</td>\n",
       "      <td>Machine Learning Music</td>\n",
       "      <td>In the 2 week scope of this project, our team ...</td>\n",
       "      <td>Machine Learning, Data Science, Python, APIs</td>\n",
       "      <td>NaN</td>\n",
       "      <td>10/2/2023</td>\n",
       "      <td>NaN</td>\n",
       "    </tr>\n",
       "    <tr>\n",
       "      <th>2</th>\n",
       "      <td>3</td>\n",
       "      <td>Earthquake Reporter</td>\n",
       "      <td>The Earthquake Report Visualizer offers a comp...</td>\n",
       "      <td>Javascript, Leaflet, APIs</td>\n",
       "      <td>NaN</td>\n",
       "      <td>8/1/2023</td>\n",
       "      <td>NaN</td>\n",
       "    </tr>\n",
       "    <tr>\n",
       "      <th>3</th>\n",
       "      <td>4</td>\n",
       "      <td>Pokedex</td>\n",
       "      <td>The Pokedex Data Visualization Project—a sophi...</td>\n",
       "      <td>Flask, Python, Javascript, HTML, CSS</td>\n",
       "      <td>NaN</td>\n",
       "      <td>8/10/2023</td>\n",
       "      <td>NaN</td>\n",
       "    </tr>\n",
       "    <tr>\n",
       "      <th>4</th>\n",
       "      <td>5</td>\n",
       "      <td>Box Office Analysis</td>\n",
       "      <td>Our team systematically curates data encompass...</td>\n",
       "      <td>Python, APIs, Pandas, Matplotlib</td>\n",
       "      <td>NaN</td>\n",
       "      <td>6/5/2023</td>\n",
       "      <td>NaN</td>\n",
       "    </tr>\n",
       "    <tr>\n",
       "      <th>5</th>\n",
       "      <td>6</td>\n",
       "      <td>Webscraping Mars Info</td>\n",
       "      <td>The project involves meticulously scraping dat...</td>\n",
       "      <td>Python, APIS, Pandas, Matplotlib</td>\n",
       "      <td>NaN</td>\n",
       "      <td>6/5/2023</td>\n",
       "      <td>NaN</td>\n",
       "    </tr>\n",
       "    <tr>\n",
       "      <th>6</th>\n",
       "      <td>7</td>\n",
       "      <td>Funding Venture Neural Network Predictor</td>\n",
       "      <td>Mimicked a business situation in which a compa...</td>\n",
       "      <td>Neural Networks, Python, Machine Learning, Dat...</td>\n",
       "      <td>NaN</td>\n",
       "      <td>9/12/2023</td>\n",
       "      <td>NaN</td>\n",
       "    </tr>\n",
       "    <tr>\n",
       "      <th>7</th>\n",
       "      <td>8</td>\n",
       "      <td>Credit Risk Classifier</td>\n",
       "      <td>Used a logistic regression Machine Learning mo...</td>\n",
       "      <td>Statistics, Machine Learning, Python</td>\n",
       "      <td>NaN</td>\n",
       "      <td>9/4/2023</td>\n",
       "      <td>NaN</td>\n",
       "    </tr>\n",
       "    <tr>\n",
       "      <th>8</th>\n",
       "      <td>9</td>\n",
       "      <td>Cryptocurrency Clustering Model</td>\n",
       "      <td>This project focuses on applying unsupervised ...</td>\n",
       "      <td>Machine Learning, Statistics, Python</td>\n",
       "      <td>NaN</td>\n",
       "      <td>8/29/2023</td>\n",
       "      <td>NaN</td>\n",
       "    </tr>\n",
       "    <tr>\n",
       "      <th>9</th>\n",
       "      <td>10</td>\n",
       "      <td>Belly Button Microbe Dashboard</td>\n",
       "      <td>I built a front-end interactive dashboard to e...</td>\n",
       "      <td>Javascript, Plotly, HTML, Git</td>\n",
       "      <td>NaN</td>\n",
       "      <td>7/27/2023</td>\n",
       "      <td>NaN</td>\n",
       "    </tr>\n",
       "    <tr>\n",
       "      <th>10</th>\n",
       "      <td>11</td>\n",
       "      <td>Crowdfunding ETL</td>\n",
       "      <td>In a 2-day time frame, my team and I followed ...</td>\n",
       "      <td>SQL, ETL, Data Engineering,</td>\n",
       "      <td>NaN</td>\n",
       "      <td>7/13/2023</td>\n",
       "      <td>NaN</td>\n",
       "    </tr>\n",
       "    <tr>\n",
       "      <th>11</th>\n",
       "      <td>12</td>\n",
       "      <td>UK Food Analysis</td>\n",
       "      <td>Created a MongoDB database to store the data o...</td>\n",
       "      <td>noSQL, Data Analysis, Data Engineering, Data M...</td>\n",
       "      <td>NaN</td>\n",
       "      <td>7/11/2023</td>\n",
       "      <td>NaN</td>\n",
       "    </tr>\n",
       "    <tr>\n",
       "      <th>12</th>\n",
       "      <td>13</td>\n",
       "      <td>Hawaii Climate Analysis App</td>\n",
       "      <td>For this project, I developed a Flask app that...</td>\n",
       "      <td>Flask, Python, SQL, Data Analysis</td>\n",
       "      <td>NaN</td>\n",
       "      <td>6/28/2023</td>\n",
       "      <td>NaN</td>\n",
       "    </tr>\n",
       "  </tbody>\n",
       "</table>\n",
       "</div>"
      ],
      "text/plain": [
       "    project_id                              project_name  \\\n",
       "0            1                          Personal Website   \n",
       "1            2                    Machine Learning Music   \n",
       "2            3                       Earthquake Reporter   \n",
       "3            4                                   Pokedex   \n",
       "4            5                       Box Office Analysis   \n",
       "5            6                     Webscraping Mars Info   \n",
       "6            7  Funding Venture Neural Network Predictor   \n",
       "7            8                    Credit Risk Classifier   \n",
       "8            9           Cryptocurrency Clustering Model   \n",
       "9           10            Belly Button Microbe Dashboard   \n",
       "10          11                          Crowdfunding ETL   \n",
       "11          12                          UK Food Analysis   \n",
       "12          13               Hawaii Climate Analysis App   \n",
       "\n",
       "                                  project_description  \\\n",
       "0   Employing technologies such as React, Django, ...   \n",
       "1   In the 2 week scope of this project, our team ...   \n",
       "2   The Earthquake Report Visualizer offers a comp...   \n",
       "3   The Pokedex Data Visualization Project—a sophi...   \n",
       "4   Our team systematically curates data encompass...   \n",
       "5   The project involves meticulously scraping dat...   \n",
       "6   Mimicked a business situation in which a compa...   \n",
       "7   Used a logistic regression Machine Learning mo...   \n",
       "8   This project focuses on applying unsupervised ...   \n",
       "9   I built a front-end interactive dashboard to e...   \n",
       "10  In a 2-day time frame, my team and I followed ...   \n",
       "11  Created a MongoDB database to store the data o...   \n",
       "12  For this project, I developed a Flask app that...   \n",
       "\n",
       "                                       project_skills  project_image  \\\n",
       "0       React, Django, SCSS, SQL,  Javascript, Python            NaN   \n",
       "1        Machine Learning, Data Science, Python, APIs            NaN   \n",
       "2                           Javascript, Leaflet, APIs            NaN   \n",
       "3                Flask, Python, Javascript, HTML, CSS            NaN   \n",
       "4                    Python, APIs, Pandas, Matplotlib            NaN   \n",
       "5                    Python, APIS, Pandas, Matplotlib            NaN   \n",
       "6   Neural Networks, Python, Machine Learning, Dat...            NaN   \n",
       "7                Statistics, Machine Learning, Python            NaN   \n",
       "8                Machine Learning, Statistics, Python            NaN   \n",
       "9                       Javascript, Plotly, HTML, Git            NaN   \n",
       "10                       SQL, ETL, Data Engineering,             NaN   \n",
       "11  noSQL, Data Analysis, Data Engineering, Data M...            NaN   \n",
       "12                  Flask, Python, SQL, Data Analysis            NaN   \n",
       "\n",
       "   project_date  reviews  \n",
       "0           NaN      NaN  \n",
       "1     10/2/2023      NaN  \n",
       "2      8/1/2023      NaN  \n",
       "3     8/10/2023      NaN  \n",
       "4      6/5/2023      NaN  \n",
       "5      6/5/2023      NaN  \n",
       "6     9/12/2023      NaN  \n",
       "7      9/4/2023      NaN  \n",
       "8     8/29/2023      NaN  \n",
       "9     7/27/2023      NaN  \n",
       "10    7/13/2023      NaN  \n",
       "11    7/11/2023      NaN  \n",
       "12    6/28/2023      NaN  "
      ]
     },
     "execution_count": 39,
     "metadata": {},
     "output_type": "execute_result"
    }
   ],
   "source": [
    "csv_file = Path('projects.csv')\n",
    "\n",
    "df_projects = pd.read_csv(csv_file)\n",
    "\n",
    "df_projects.head(15)"
   ]
  },
  {
   "cell_type": "code",
   "execution_count": 40,
   "metadata": {},
   "outputs": [],
   "source": [
    "db_path = 'project_db.sqlite'\n",
    "\n",
    "conn = sqlite3.connect(db_path)"
   ]
  },
  {
   "cell_type": "code",
   "execution_count": 41,
   "metadata": {},
   "outputs": [],
   "source": [
    "cursor = conn.cursor()"
   ]
  },
  {
   "cell_type": "code",
   "execution_count": 42,
   "metadata": {},
   "outputs": [
    {
     "data": {
      "text/plain": [
       "<sqlite3.Cursor at 0x165dcec1bc0>"
      ]
     },
     "execution_count": 42,
     "metadata": {},
     "output_type": "execute_result"
    }
   ],
   "source": [
    "drop_table_query = \"DROP TABLE project_db\"\n",
    "\n",
    "cursor.execute(drop_table_query)\n",
    "\n",
    "create_table_query = \"\"\"\n",
    "CREATE TABLE \"project_db\" (\n",
    "\t\"project_id\"\tINTEGER NOT NULL,\n",
    "\t\"project_name\"\tTEXT NOT NULL,\n",
    "\t\"project_description\"\tTEXT NOT NULL,\n",
    "\t\"project_skills\"\tTEXT NOT NULL,\n",
    "\t\"project_image\"\tBLOB,\n",
    "\t\"project_date\"\tTEXT,\n",
    "\tPRIMARY KEY(\"project_id\")\n",
    ");\n",
    "\"\"\"\n",
    "\n",
    "cursor.execute(create_table_query)"
   ]
  },
  {
   "cell_type": "code",
   "execution_count": 43,
   "metadata": {},
   "outputs": [
    {
     "data": {
      "text/plain": [
       "13"
      ]
     },
     "execution_count": 43,
     "metadata": {},
     "output_type": "execute_result"
    }
   ],
   "source": [
    "df_projects.to_sql('project_db', conn, if_exists='replace', index=False)"
   ]
  },
  {
   "cell_type": "code",
   "execution_count": 44,
   "metadata": {},
   "outputs": [],
   "source": [
    "conn.commit()\n",
    "conn.close()"
   ]
  },
  {
   "cell_type": "code",
   "execution_count": 45,
   "metadata": {},
   "outputs": [],
   "source": [
    "db_file_path = 'project_db.sqlite'\n",
    "conn = sqlite3.connect(db_file_path)\n",
    "cursor = conn.cursor()"
   ]
  },
  {
   "cell_type": "code",
   "execution_count": 46,
   "metadata": {},
   "outputs": [],
   "source": [
    "query = \"SELECT * FROM project_db;\"\n",
    "params = \"\"\n",
    "\n",
    "cursor.execute(query, params)\n",
    "projects  = cursor.fetchall()\n",
    "\n",
    "conn.close()"
   ]
  },
  {
   "cell_type": "code",
   "execution_count": 47,
   "metadata": {},
   "outputs": [
    {
     "name": "stdout",
     "output_type": "stream",
     "text": [
      "[(1, 'Personal Website', 'Employing technologies such as React, Django, SCSS, JavaScript, Python, and various other languages and libraries, I meticulously developed a personal website with the primary objective of showcasing my projects and proficiency. This endeavor has afforded me invaluable insights into full-stack development, and I am committed to consistently updating and maintaining the project to ensure its relevance and functionality.', 'React, Django, SCSS, SQL,  Javascript, Python', None, None, None), (2, 'Machine Learning Music', 'In the 2 week scope of this project, our team engineered a Random Forest classification model with the principal objective of forecasting the likelihood of a song attaining chart-topping status. This predictive model relies on the analysis of audio features derived from both chart-topping songs and a carefully selected sample, demonstrating our commitment to delineating the key characteristics contributing to musical success.', 'Machine Learning, Data Science, Python, APIs', None, '10/2/2023', None), (3, 'Earthquake Reporter', 'The Earthquake Report Visualizer offers a comprehensive overview of seismic events worldwide within the past 30 days. Crafted from the ground up, considerable attention was devoted to refining front-end visualizations. This involved conscientious API data calls to ensure accurate and compelling representations of earthquake data on the platform.', 'Javascript, Leaflet, APIs', None, '8/1/2023', None), (4, 'Pokedex', 'The Pokedex Data Visualization Project—a sophisticated initiative designed to offer an interactive exploration of Pokemon data through meticulously crafted visualizations. Employing a Flask API, this project seamlessly retrieves data from an SQLite database, presenting it with finesse through a combination of HTML, JavaScript, and D3.js. The result is a visually captivating display of data, enhanced by dynamic charts for an enriching user experience.', 'Flask, Python, Javascript, HTML, CSS', None, '8/10/2023', None), (5, 'Box Office Analysis', 'Our team systematically curates data encompassing the top 1000 highest-grossing movies of all time. Through rigorous analysis and diverse visualizations, we derive insightful predictions, unraveling a compelling narrative that extends beyond mere box office sales, shedding light on various influential factors within the film industry.', 'Python, APIs, Pandas, Matplotlib', None, '6/5/2023', None), (6, 'Webscraping Mars Info', \"The project involves meticulously scraping data from NASA's website, extracting information spanning multiple years on Mars. This initiative goes beyond mere data collection, as I unveil discernible patterns and trends pertaining to Mars and its atmosphere.\", 'Python, APIS, Pandas, Matplotlib', None, '6/5/2023', None), (7, 'Funding Venture Neural Network Predictor', 'Mimicked a business situation in which a company is providing business venture funding and seeking to maximize its return by utilizing a neural network to determine which small businesses would be successful to invest in and which ones would be best to avoid.', 'Neural Networks, Python, Machine Learning, Data Manipulation', None, '9/12/2023', None), (8, 'Credit Risk Classifier', 'Used a logistic regression Machine Learning model to predict wheter a credit borrower for a loan will get approved or denied', 'Statistics, Machine Learning, Python', None, '9/4/2023', None), (9, 'Cryptocurrency Clustering Model', 'This project focuses on applying unsupervised machine learning techniques to analyze and predict how cryptocurrencies are affected by their 24-hour and 7-day price changes. The goal is to group similar cryptocurrencies based on their price behavior and provide insightful visualizations to aid in understanding the data patterns.', 'Machine Learning, Statistics, Python', None, '8/29/2023', None), (10, 'Belly Button Microbe Dashboard', 'I built a front-end interactive dashboard to explore the Belly Button Biodiversity dataset, which catalogs the microbes that colonize human navels.', 'Javascript, Plotly, HTML, Git', None, '7/27/2023', None), (11, 'Crowdfunding ETL', 'In a 2-day time frame, my team and I followed ETL practices, created an Entity-Relationship Diagram (ERD), and fully built a PostgreSQL database from a CSV file.', 'SQL, ETL, Data Engineering, ', None, '7/13/2023', None), (12, 'UK Food Analysis', 'Created a MongoDB database to store the data of various UK food establishments and conducted various manipulations and analyses on the data after successfully importing and cleaning it.', 'noSQL, Data Analysis, Data Engineering, Data Manipulation', None, '7/11/2023', None), (13, 'Hawaii Climate Analysis App', 'For this project, I developed a Flask app that retrieves data from selected time ranges from different weather stations in Hawaii, along with conducting climate analysis over time. After extracting data through the Flask app, we utilized it for analyzing a specific time range in Hawaii and potentially predicting future weather patterns.', 'Flask, Python, SQL, Data Analysis', None, '6/28/2023', None)]\n"
     ]
    }
   ],
   "source": [
    "print(projects)"
   ]
  },
  {
   "cell_type": "code",
   "execution_count": 48,
   "metadata": {},
   "outputs": [],
   "source": [
    "conn.close()"
   ]
  },
  {
   "cell_type": "code",
   "execution_count": null,
   "metadata": {},
   "outputs": [],
   "source": []
  }
 ],
 "metadata": {
  "kernelspec": {
   "display_name": "base",
   "language": "python",
   "name": "python3"
  },
  "language_info": {
   "codemirror_mode": {
    "name": "ipython",
    "version": 3
   },
   "file_extension": ".py",
   "mimetype": "text/x-python",
   "name": "python",
   "nbconvert_exporter": "python",
   "pygments_lexer": "ipython3",
   "version": "3.10.13"
  }
 },
 "nbformat": 4,
 "nbformat_minor": 2
}
